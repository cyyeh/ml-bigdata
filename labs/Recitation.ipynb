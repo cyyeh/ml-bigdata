{
  "nbformat": 4,
  "nbformat_minor": 0,
  "metadata": {
    "colab": {
      "name": "Recitation",
      "provenance": [],
      "toc_visible": true
    },
    "kernelspec": {
      "name": "python3",
      "display_name": "Python 3"
    }
  },
  "cells": [
    {
      "cell_type": "code",
      "metadata": {
        "id": "SmSYIU7k-Dds",
        "colab_type": "code",
        "colab": {}
      },
      "source": [
        "import numpy as np"
      ],
      "execution_count": 0,
      "outputs": []
    },
    {
      "cell_type": "markdown",
      "metadata": {
        "id": "VAg9fDANLuUY",
        "colab_type": "text"
      },
      "source": [
        "Vectors are a type of matrix having only one column or one row.\n",
        "\n",
        "Vectors come in two flavors: column vectors and row vectors. For example, matrix a is a column vector, and matrix a' is a row vector."
      ]
    },
    {
      "cell_type": "markdown",
      "metadata": {
        "id": "W5R_YOPPLv5V",
        "colab_type": "text"
      },
      "source": [
        "$$\n",
        "A = \\begin{pmatrix}\n",
        "5 \\\\\n",
        "4 \\\\\n",
        "11 \n",
        "\\end{pmatrix}\n",
        "$$\n",
        "\n",
        "$$\n",
        "A^*_{}=\\begin{pmatrix}\n",
        "  5 & 5 & 11\n",
        "\\end{pmatrix}\n",
        "$$"
      ]
    },
    {
      "cell_type": "markdown",
      "metadata": {
        "id": "Yhs8GLbA8eSW",
        "colab_type": "text"
      },
      "source": [
        " # Solve Linear Equation\n",
        " Solve a system of three linear equations:\n",
        "\n",
        "4x + 3y + 2z = 25\n",
        "\n",
        "-2x + 2y + 3z = -10\n",
        "\n",
        "\n",
        "3x -5y + 2z = -4"
      ]
    },
    {
      "cell_type": "markdown",
      "metadata": {
        "id": "d0xQC4r29ASg",
        "colab_type": "text"
      },
      "source": [
        "Q1. Implement \n",
        "\n",
        "**$X=A^{-1}B$**\n",
        "\n",
        "and find out the sum of x + y + z"
      ]
    },
    {
      "cell_type": "code",
      "metadata": {
        "id": "-PZ7i30f-AUM",
        "colab_type": "code",
        "colab": {}
      },
      "source": [
        "A = np.array([[4, 3, 2], [-2, 2, 3], [3, -5, 2]])\n",
        "B = np.array([25, -10, -4])"
      ],
      "execution_count": 0,
      "outputs": []
    },
    {
      "cell_type": "code",
      "metadata": {
        "id": "3WLkh6dF8aQV",
        "colab_type": "code",
        "colab": {}
      },
      "source": [
        "##implement A inv B to find X\n",
        "# X=np.*(np.*.*(A),B)\n"
      ],
      "execution_count": 0,
      "outputs": []
    },
    {
      "cell_type": "code",
      "metadata": {
        "id": "fn19xbfu-KTc",
        "colab_type": "code",
        "colab": {}
      },
      "source": [
        "#implement numpy linalgebra\n",
        "\n"
      ],
      "execution_count": 0,
      "outputs": []
    },
    {
      "cell_type": "markdown",
      "metadata": {
        "id": "7c7kDmnr-8dy",
        "colab_type": "text"
      },
      "source": [
        "## Eigenvalue\n",
        "Let us find Eigenvalue of a matrix\n",
        "$$\n",
        "A = \\begin{pmatrix}\n",
        "5 & 6 & 2\\\\\n",
        "4 & 7 & 19\\\\\n",
        "0 & 3 & 12\n",
        "\\end{pmatrix}\n",
        "$$"
      ]
    },
    {
      "cell_type": "code",
      "metadata": {
        "id": "xoXcbHrJ_kna",
        "colab_type": "code",
        "colab": {}
      },
      "source": [
        "A = np.matrix([[5, 6, 2],\n",
        "               [4, 7, 19],\n",
        "               [0, 3, 12]])"
      ],
      "execution_count": 0,
      "outputs": []
    },
    {
      "cell_type": "markdown",
      "metadata": {
        "id": "CWDyt1NQAzGx",
        "colab_type": "text"
      },
      "source": [
        "The numpy.linalg.eig function returns a tuple consisting of a vector **w** eigenvalues and an array **v** corresponding eigenvectors"
      ]
    },
    {
      "cell_type": "code",
      "metadata": {
        "id": "dHFJjDWh_ptZ",
        "colab_type": "code",
        "colab": {}
      },
      "source": [
        "##find sum of w (eigen values) and enter in mentimeter\n"
      ],
      "execution_count": 0,
      "outputs": []
    },
    {
      "cell_type": "markdown",
      "metadata": {
        "id": "mhNqVrk7Ceb2",
        "colab_type": "text"
      },
      "source": [
        "The eigenvalue w[0] goes with the 0th column of v. The eigenvalue w[1] goes with column 1, etc. To extract the ith column vector, we use\n",
        "\n"
      ]
    },
    {
      "cell_type": "code",
      "metadata": {
        "id": "0QC6JDYHCBqV",
        "colab_type": "code",
        "colab": {
          "base_uri": "https://localhost:8080/",
          "height": 69
        },
        "outputId": "b75dc0db-5c23-426d-f8cf-66452563836c"
      },
      "source": [
        "print(v[:,0])"
      ],
      "execution_count": 38,
      "outputs": [
        {
          "output_type": "stream",
          "text": [
            "[[ 0.6664281 ]\n",
            " [-0.72658863]\n",
            " [ 0.16716024]]\n"
          ],
          "name": "stdout"
        }
      ]
    },
    {
      "cell_type": "markdown",
      "metadata": {
        "id": "9iAV6CHfG3K_",
        "colab_type": "text"
      },
      "source": [
        "Check A.v = w.v"
      ]
    },
    {
      "cell_type": "code",
      "metadata": {
        "id": "320pF6o5_6Oa",
        "colab_type": "code",
        "colab": {}
      },
      "source": [
        "# print(np.dot(w[0],v[:,0]))"
      ],
      "execution_count": 0,
      "outputs": []
    },
    {
      "cell_type": "code",
      "metadata": {
        "id": "Bnhr0OqNBQBK",
        "colab_type": "code",
        "colab": {}
      },
      "source": [
        "# print(np.dot(A,v[:,0]))"
      ],
      "execution_count": 0,
      "outputs": []
    },
    {
      "cell_type": "markdown",
      "metadata": {
        "id": "QQEWUWevHO45",
        "colab_type": "text"
      },
      "source": [
        "Determinant of matrix A"
      ]
    },
    {
      "cell_type": "code",
      "metadata": {
        "id": "C2_QBfTkDpgz",
        "colab_type": "code",
        "colab": {}
      },
      "source": [
        "# print (np.linalg.det(A))"
      ],
      "execution_count": 0,
      "outputs": []
    },
    {
      "cell_type": "markdown",
      "metadata": {
        "id": "HMr6Q9BNkTjv",
        "colab_type": "text"
      },
      "source": [
        "##Calculate SVD"
      ]
    },
    {
      "cell_type": "markdown",
      "metadata": {
        "id": "IguIidNmkXD8",
        "colab_type": "text"
      },
      "source": [
        "Canculate the SVD and enter the sum of singular values in mentimeter\n",
        "$$\n",
        "B = \\begin{pmatrix}\n",
        "1 & 2 \\\\\n",
        "2 & 1 \\\\\n",
        "\\end{pmatrix}\n",
        "$$"
      ]
    },
    {
      "cell_type": "code",
      "metadata": {
        "id": "xT3thBZknuN8",
        "colab_type": "code",
        "colab": {}
      },
      "source": [
        "B = np.matrix([[1, 2],\n",
        "               [2, 1]])"
      ],
      "execution_count": 0,
      "outputs": []
    },
    {
      "cell_type": "code",
      "metadata": {
        "id": "Sn_Y0bPomiTw",
        "colab_type": "code",
        "colab": {}
      },
      "source": [
        ""
      ],
      "execution_count": 0,
      "outputs": []
    },
    {
      "cell_type": "markdown",
      "metadata": {
        "id": "cW9h5U2iKR9J",
        "colab_type": "text"
      },
      "source": [
        "# PCA Approach"
      ]
    },
    {
      "cell_type": "markdown",
      "metadata": {
        "id": "NaSBwbCNNjOK",
        "colab_type": "text"
      },
      "source": [
        "\n",
        "\n",
        "1.   Take the whole dataset consisting of d-dimensional samples ignoring the class labels\n",
        "\n",
        "2.   Compute the d-dimensional mean vector (i.e., the means for every dimension of the whole dataset)\n",
        "\n",
        "3. Compute the covariance matrix of the whole data set\n",
        "\n",
        "4. Compute eigenvectors (e1,e2,...,ed) and corresponding eigenvalues (λ1,λ2,...,λd)\n",
        "\n",
        "5. Sort the eigenvectors by decreasing eigenvalues and choose k eigenvectors with the largest eigenvalues to form a d×k dimensional matrix WW(where every column represents an eigenvector)\n",
        "\n",
        "6. Use this d×k eigenvector matrix to transform the samples onto the new subspace. This can be summarized by the mathematical equation: y=WT×x (where x is a d×1-dimensional vector representing one sample, and y is the transformed k×1-dimensional sample in the new subspace.)\n",
        "\n",
        "Ref:  http://sebastianraschka.com/Articles/2014_pca_step_by_step.html#6-transforming-the-samples-onto-the-new-subspace"
      ]
    },
    {
      "cell_type": "code",
      "metadata": {
        "id": "h-Q4bJIPHTPe",
        "colab_type": "code",
        "colab": {}
      },
      "source": [
        "import numpy as np\n",
        "import pandas as pd\n",
        "import matplotlib.pyplot as plt"
      ],
      "execution_count": 0,
      "outputs": []
    },
    {
      "cell_type": "markdown",
      "metadata": {
        "id": "uj6E4s1VewpP",
        "colab_type": "text"
      },
      "source": [
        "##Generating some 3-dimensional sample data\n",
        "For the following example, we will generate 40 3-dimensional samples randomly drawn from a multivariate Gaussian distribution."
      ]
    },
    {
      "cell_type": "code",
      "metadata": {
        "id": "hFSFlplRNO9V",
        "colab_type": "code",
        "colab": {}
      },
      "source": [
        "import numpy as np\n",
        "\n",
        "np.random.seed(23423) \n",
        "\n",
        "mu_vec1 = np.array([0,0,0])\n",
        "\n",
        "cov_mat1 = np.array([[1,0,0],[0,1,0],[0,0,1]])\n",
        "\n",
        "\n",
        "class1_sample = np.random.multivariate_normal(mu_vec1, cov_mat1, 20).T\n",
        "assert class1_sample.shape == (3,20), \"The matrix has not the dimensions 3x20\"\n",
        "\n",
        "mu_vec2 = np.array([1,1,1])\n",
        "\n",
        "cov_mat2 = np.array([[1,0,0],[0,1,0],[0,0,1]])\n",
        "\n",
        "class2_sample = np.random.multivariate_normal(mu_vec2, cov_mat2, 20).T\n",
        "assert class2_sample.shape == (3,20), \"The matrix has not the dimensions 3x20\""
      ],
      "execution_count": 0,
      "outputs": []
    },
    {
      "cell_type": "code",
      "metadata": {
        "id": "PuqvUNm7NPgN",
        "colab_type": "code",
        "colab": {
          "base_uri": "https://localhost:8080/",
          "height": 483
        },
        "outputId": "a27ab5cf-5a5b-4385-83ea-a39eb458c92d"
      },
      "source": [
        "%pylab inline\n",
        "from matplotlib import pyplot as plt\n",
        "from mpl_toolkits.mplot3d import Axes3D\n",
        "from mpl_toolkits.mplot3d import proj3d\n",
        "\n",
        "fig = plt.figure(figsize=(8,8))\n",
        "ax = fig.add_subplot(111, projection='3d')\n",
        "plt.rcParams['legend.fontsize'] = 10   \n",
        "\n",
        "ax.plot(class1_sample[0,:], class1_sample[1,:], class1_sample[2,:], 'o', markersize=8, color='blue', alpha=0.5, label='class1')\n",
        "ax.plot(class2_sample[0,:], class2_sample[1,:], class2_sample[2,:], '^', markersize=8, alpha=0.5, color='red', label='class2')\n",
        "\n",
        "plt.title('Samples for class 1 and class 2')\n",
        "ax.legend(loc='upper right')\n",
        "\n",
        "plt.show()"
      ],
      "execution_count": 68,
      "outputs": [
        {
          "output_type": "stream",
          "text": [
            "Populating the interactive namespace from numpy and matplotlib\n"
          ],
          "name": "stdout"
        },
        {
          "output_type": "display_data",
          "data": {
            "image/png": "[encoded data removed]",
            "text/plain": [
              "<Figure size 576x576 with 1 Axes>"
            ]
          },
          "metadata": {
            "tags": []
          }
        }
      ]
    },
    {
      "cell_type": "markdown",
      "metadata": {
        "id": "cVUE1YdLQzw8",
        "colab_type": "text"
      },
      "source": [
        "##1.0 Taking the whole dataset ignoring the class labels\n",
        "Because we don’t need class labels for the PCA analysis, let us merge the samples for our 2 classes into one 3×40-dimensional array."
      ]
    },
    {
      "cell_type": "code",
      "metadata": {
        "id": "wmzD8JoTNYFc",
        "colab_type": "code",
        "colab": {}
      },
      "source": [
        "all_samples = np.concatenate((class1_sample, class2_sample), axis=1)\n",
        "assert all_samples.shape == (3,40), \"The matrix has not the dimensions 3x40\""
      ],
      "execution_count": 0,
      "outputs": []
    },
    {
      "cell_type": "markdown",
      "metadata": {
        "id": "p-zXXWIZQ4TO",
        "colab_type": "text"
      },
      "source": [
        "##2.0 Computing the d-dimensional mean vector"
      ]
    },
    {
      "cell_type": "code",
      "metadata": {
        "id": "HGi774prQy07",
        "colab_type": "code",
        "colab": {
          "base_uri": "https://localhost:8080/",
          "height": 87
        },
        "outputId": "a453fdcc-f44e-4854-a8c7-f278f7e7dd29"
      },
      "source": [
        "mean_x = np.mean(all_samples[0,:])\n",
        "mean_y = np.mean(all_samples[1,:])\n",
        "mean_z = np.mean(all_samples[2,:])\n",
        "\n",
        "mean_vector = np.array([[mean_x],[mean_y],[mean_z]])\n",
        "\n",
        "print('Mean Vector:\\n', mean_vector)"
      ],
      "execution_count": 70,
      "outputs": [
        {
          "output_type": "stream",
          "text": [
            "Mean Vector:\n",
            " [[0.59630221]\n",
            " [0.47965616]\n",
            " [0.56413655]]\n"
          ],
          "name": "stdout"
        }
      ]
    },
    {
      "cell_type": "markdown",
      "metadata": {
        "id": "Hx66fV-pRCUQ",
        "colab_type": "text"
      },
      "source": [
        "##3.0 a) Computing the Scatter Matrix\n",
        "The covariance matrix is computed by the following equation:\n",
        "$cov_{x,y}=\\frac{\\sum_{i=1}^{N}(x_{i}-\\bar{x})(y_{i}-\\bar{y})}{N-1}$"
      ]
    },
    {
      "cell_type": "code",
      "metadata": {
        "id": "Ep3fUFcOQ_Q3",
        "colab_type": "code",
        "colab": {
          "base_uri": "https://localhost:8080/",
          "height": 87
        },
        "outputId": "3d82c98f-d71e-48f0-f679-39e65aeb761e"
      },
      "source": [
        "scatter_matrix = np.zeros((3,3))\n",
        "for i in range(all_samples.shape[1]):\n",
        "    scatter_matrix += (all_samples[:,i].reshape(3,1) - mean_vector).dot((all_samples[:,i].reshape(3,1) - mean_vector).T)\n",
        "print('Scatter Matrix:\\n', scatter_matrix)"
      ],
      "execution_count": 75,
      "outputs": [
        {
          "output_type": "stream",
          "text": [
            "Scatter Matrix:\n",
            " [[54.75723353  1.26043387 28.81217483]\n",
            " [ 1.26043387 50.1514903   6.1323721 ]\n",
            " [28.81217483  6.1323721  54.57258159]]\n"
          ],
          "name": "stdout"
        }
      ]
    },
    {
      "cell_type": "markdown",
      "metadata": {
        "id": "Rc8_NaCERnTR",
        "colab_type": "text"
      },
      "source": [
        "##3.1 b) Computing the Covariance Matrix "
      ]
    },
    {
      "cell_type": "code",
      "metadata": {
        "id": "8Z2tkApRRfKH",
        "colab_type": "code",
        "colab": {
          "base_uri": "https://localhost:8080/",
          "height": 87
        },
        "outputId": "2d418392-9e1c-41b0-c5ca-127e782e6a21"
      },
      "source": [
        "cov_mat = np.cov([all_samples[0,:],all_samples[1,:],all_samples[2,:]])\n",
        "print('Covariance Matrix:\\n', cov_mat)"
      ],
      "execution_count": 74,
      "outputs": [
        {
          "output_type": "stream",
          "text": [
            "Covariance Matrix:\n",
            " [[1.40403163 0.03231882 0.73877371]\n",
            " [0.03231882 1.28593565 0.15724031]\n",
            " [0.73877371 0.15724031 1.39929696]]\n"
          ],
          "name": "stdout"
        }
      ]
    },
    {
      "cell_type": "markdown",
      "metadata": {
        "id": "WzsYK09WaTGl",
        "colab_type": "text"
      },
      "source": [
        "##4.0 Computing eigenvectors and corresponding eigenvalues\n",
        "To show that the eigenvectors are indeed identical whether we derived them from the scatter or the covariance matrix, let us put an assert statement into the code. Also, we will see that the eigenvalues were indeed scaled by the factor 39 when we derived it from the scatter matrix."
      ]
    },
    {
      "cell_type": "code",
      "metadata": {
        "id": "fmTH_sv5T1Un",
        "colab_type": "code",
        "colab": {
          "base_uri": "https://localhost:8080/",
          "height": 433
        },
        "outputId": "6c822600-8417-4ebf-ebc1-743d613f1335"
      },
      "source": [
        "# eigenvectors and eigenvalues for the from the scatter matrix\n",
        "eig_val_sc, eig_vec_sc = np.linalg.eig(scatter_matrix)\n",
        "\n",
        "# eigenvectors and eigenvalues for the from the covariance matrix\n",
        "eig_val_cov, eig_vec_cov = np.linalg.eig(cov_mat)\n",
        "\n",
        "for i in range(len(eig_val_sc)):\n",
        "    eigvec_sc = eig_vec_sc[:,i].reshape(1,3).T\n",
        "    eigvec_cov = eig_vec_cov[:,i].reshape(1,3).T\n",
        "    assert eigvec_sc.all() == eigvec_cov.all(), 'Eigenvectors are not identical'\n",
        "\n",
        "    print('Eigenvector {}: \\n{}'.format(i+1, eigvec_sc))\n",
        "    print('Eigenvalue {} from scatter matrix: {}'.format(i+1, eig_val_sc[i]))\n",
        "    print('Eigenvalue {} from covariance matrix: {}'.format(i+1, eig_val_cov[i]))\n",
        "    print('Scaling factor: ', eig_val_sc[i]/eig_val_cov[i])\n",
        "    print(40 * '-')"
      ],
      "execution_count": 76,
      "outputs": [
        {
          "output_type": "stream",
          "text": [
            "Eigenvector 1: \n",
            "[[-0.69361894]\n",
            " [-0.15212732]\n",
            " [-0.70409519]]\n",
            "Eigenvalue 1 from scatter matrix: 84.28102398595225\n",
            "Eigenvalue 1 from covariance matrix: 2.1610518970756996\n",
            "Scaling factor:  38.999999999999986\n",
            "----------------------------------------\n",
            "Eigenvector 2: \n",
            "[[-0.68995971]\n",
            " [-0.14057467]\n",
            " [ 0.71006645]]\n",
            "Eigenvalue 2 from scatter matrix: 25.362222282246467\n",
            "Eigenvalue 2 from covariance matrix: 0.6503133918524734\n",
            "Scaling factor:  39.00000000000001\n",
            "----------------------------------------\n",
            "Eigenvector 3: \n",
            "[[ 0.20699845]\n",
            " [-0.97831285]\n",
            " [ 0.00745647]]\n",
            "Eigenvalue 3 from scatter matrix: 49.83805915321693\n",
            "Eigenvalue 3 from covariance matrix: 1.2778989526465878\n",
            "Scaling factor:  39.00000000000001\n",
            "----------------------------------------\n"
          ],
          "name": "stdout"
        }
      ]
    },
    {
      "cell_type": "markdown",
      "metadata": {
        "id": "BEyJz08dabOa",
        "colab_type": "text"
      },
      "source": [
        "##5.0 Checking the eigenvector-eigenvalue calculation\n",
        "Let us quickly check that the eigenvector-eigenvalue calculation is correct and satisfy the equation"
      ]
    },
    {
      "cell_type": "code",
      "metadata": {
        "id": "rkcu4LoWaSMa",
        "colab_type": "code",
        "colab": {
          "base_uri": "https://localhost:8080/",
          "height": 277
        },
        "outputId": "0c8ebb32-78da-4180-e9a6-1967950571cf"
      },
      "source": [
        "for i in range(len(eig_val_sc)):\n",
        "    eigv = eig_vec_sc[:,i].reshape(1,3).T\n",
        "    print(scatter_matrix.dot(eigv), eig_val_sc[i] * eigv)"
      ],
      "execution_count": 79,
      "outputs": [
        {
          "output_type": "stream",
          "text": [
            "[[-58.4589146 ]\n",
            " [-12.82144641]\n",
            " [-59.34186398]] [[-58.4589146 ]\n",
            " [-12.82144641]\n",
            " [-59.34186398]]\n",
            "[[-17.4989116 ]\n",
            " [ -3.56528593]\n",
            " [ 18.00886305]] [[-17.4989116 ]\n",
            " [ -3.56528593]\n",
            " [ 18.00886305]]\n",
            "[[ 10.31640115]\n",
            " [-48.75721392]\n",
            " [  0.37161608]] [[ 10.31640115]\n",
            " [-48.75721392]\n",
            " [  0.37161608]]\n"
          ],
          "name": "stdout"
        }
      ]
    },
    {
      "cell_type": "markdown",
      "metadata": {
        "id": "BUvfpwCqbQyA",
        "colab_type": "text"
      },
      "source": [
        "##Visualizing the eigenvectors\n",
        "And before we move on to the next step, just to satisfy our own curiosity, we plot the eigenvectors centered at the sample mean."
      ]
    },
    {
      "cell_type": "code",
      "metadata": {
        "id": "fLrPBY97agEZ",
        "colab_type": "code",
        "colab": {
          "base_uri": "https://localhost:8080/",
          "height": 429
        },
        "outputId": "b6d2358a-6571-4c94-fb72-d8619c32ab97"
      },
      "source": [
        "%pylab inline\n",
        "\n",
        "from matplotlib import pyplot as plt\n",
        "from mpl_toolkits.mplot3d import Axes3D\n",
        "from mpl_toolkits.mplot3d import proj3d\n",
        "from matplotlib.patches import FancyArrowPatch\n",
        "\n",
        "\n",
        "class Arrow3D(FancyArrowPatch):\n",
        "    def __init__(self, xs, ys, zs, *args, **kwargs):\n",
        "        FancyArrowPatch.__init__(self, (0,0), (0,0), *args, **kwargs)\n",
        "        self._verts3d = xs, ys, zs\n",
        "\n",
        "    def draw(self, renderer):\n",
        "        xs3d, ys3d, zs3d = self._verts3d\n",
        "        xs, ys, zs = proj3d.proj_transform(xs3d, ys3d, zs3d, renderer.M)\n",
        "        self.set_positions((xs[0],ys[0]),(xs[1],ys[1]))\n",
        "        FancyArrowPatch.draw(self, renderer)\n",
        "\n",
        "fig = plt.figure(figsize=(7,7))\n",
        "ax = fig.add_subplot(111, projection='3d')\n",
        "\n",
        "ax.plot(all_samples[0,:], all_samples[1,:], all_samples[2,:], 'o', markersize=8, color='green', alpha=0.2)\n",
        "ax.plot([mean_x], [mean_y], [mean_z], 'o', markersize=10, color='red', alpha=0.5)\n",
        "for v in eig_vec_sc.T:\n",
        "    a = Arrow3D([mean_x, v[0]], [mean_y, v[1]], [mean_z, v[2]], mutation_scale=20, lw=3, arrowstyle=\"-|>\", color=\"r\")\n",
        "    ax.add_artist(a)\n",
        "ax.set_xlabel('x_values')\n",
        "ax.set_ylabel('y_values')\n",
        "ax.set_zlabel('z_values')\n",
        "\n",
        "plt.title('Eigenvectors')\n",
        "\n",
        "plt.show()"
      ],
      "execution_count": 80,
      "outputs": [
        {
          "output_type": "stream",
          "text": [
            "Populating the interactive namespace from numpy and matplotlib\n"
          ],
          "name": "stdout"
        },
        {
          "output_type": "display_data",
          "data": {
            "image/png": "[encoded data removed]",
            "text/plain": [
              "<Figure size 504x504 with 1 Axes>"
            ]
          },
          "metadata": {
            "tags": []
          }
        }
      ]
    },
    {
      "cell_type": "markdown",
      "metadata": {
        "id": "0F5Jx3B7blz8",
        "colab_type": "text"
      },
      "source": [
        "##5.1. Sorting the eigenvectors by decreasing eigenvalue"
      ]
    },
    {
      "cell_type": "code",
      "metadata": {
        "id": "3Mlc_jk9bPy3",
        "colab_type": "code",
        "colab": {}
      },
      "source": [
        "for ev in eig_vec_sc:\n",
        "    numpy.testing.assert_array_almost_equal(1.0, np.linalg.norm(ev))\n",
        "    # instead of 'assert' because of rounding errors"
      ],
      "execution_count": 0,
      "outputs": []
    },
    {
      "cell_type": "code",
      "metadata": {
        "id": "wRpSTH_nboZO",
        "colab_type": "code",
        "colab": {
          "base_uri": "https://localhost:8080/",
          "height": 69
        },
        "outputId": "71990fb7-c779-4d99-fc01-6be55282fb58"
      },
      "source": [
        "# Make a list of (eigenvalue, eigenvector) tuples\n",
        "eig_pairs = [(np.abs(eig_val_sc[i]), eig_vec_sc[:,i]) for i in range(len(eig_val_sc))]\n",
        "\n",
        "# Sort the (eigenvalue, eigenvector) tuples from high to low\n",
        "eig_pairs.sort(key=lambda x: x[0], reverse=True)\n",
        "\n",
        "# Visually confirm that the list is correctly sorted by decreasing eigenvalues\n",
        "for i in eig_pairs:\n",
        "    print(i[0])"
      ],
      "execution_count": 82,
      "outputs": [
        {
          "output_type": "stream",
          "text": [
            "84.28102398595225\n",
            "49.83805915321693\n",
            "25.362222282246467\n"
          ],
          "name": "stdout"
        }
      ]
    },
    {
      "cell_type": "markdown",
      "metadata": {
        "id": "UxGGCD2_btJL",
        "colab_type": "text"
      },
      "source": [
        "##5.2. Choosing k eigenvectors with the largest eigenvalues"
      ]
    },
    {
      "cell_type": "code",
      "metadata": {
        "id": "mkVqy9vKbqt9",
        "colab_type": "code",
        "colab": {
          "base_uri": "https://localhost:8080/",
          "height": 87
        },
        "outputId": "73c497cd-2ad0-4bcf-97d6-928a8113447f"
      },
      "source": [
        "matrix_w = np.hstack((eig_pairs[0][1].reshape(3,1), eig_pairs[1][1].reshape(3,1)))\n",
        "print('Matrix W:\\n', matrix_w)"
      ],
      "execution_count": 85,
      "outputs": [
        {
          "output_type": "stream",
          "text": [
            "Matrix W:\n",
            " [[-0.69361894  0.20699845]\n",
            " [-0.15212732 -0.97831285]\n",
            " [-0.70409519  0.00745647]]\n"
          ],
          "name": "stdout"
        }
      ]
    },
    {
      "cell_type": "markdown",
      "metadata": {
        "id": "f6azYeMCb0Fw",
        "colab_type": "text"
      },
      "source": [
        "##6. Transforming the samples onto the new subspace"
      ]
    },
    {
      "cell_type": "code",
      "metadata": {
        "id": "KlYuJb1lb2cr",
        "colab_type": "code",
        "colab": {
          "base_uri": "https://localhost:8080/",
          "height": 296
        },
        "outputId": "45a7a642-1f34-4f67-a285-cea7a8d4c1d5"
      },
      "source": [
        "transformed = matrix_w.T.dot(all_samples)\n",
        "plt.plot(transformed[0,0:20], transformed[1,0:20], 'o', markersize=7, color='blue', alpha=0.5, label='class1')\n",
        "plt.plot(transformed[0,20:40], transformed[1,20:40], '^', markersize=7, color='red', alpha=0.5, label='class2')\n",
        "plt.xlim([-4,4])\n",
        "plt.ylim([-4,4])\n",
        "plt.xlabel('x_values')\n",
        "plt.ylabel('y_values')\n",
        "plt.legend()\n",
        "plt.title('Transformed samples with class labels')\n",
        "\n",
        "plt.show()"
      ],
      "execution_count": 86,
      "outputs": [
        {
          "output_type": "display_data",
          "data": {
            "image/png": "[encoded data removed]",
            "text/plain": [
              "<Figure size 432x288 with 1 Axes>"
            ]
          },
          "metadata": {
            "tags": []
          }
        }
      ]
    },
    {
      "cell_type": "markdown",
      "metadata": {
        "id": "mvPUWzbjfHRo",
        "colab_type": "text"
      },
      "source": [
        "# Principle Component Analysis (PCA) for iris dataset"
      ]
    },
    {
      "cell_type": "code",
      "metadata": {
        "id": "Mq0K0dsUfGG6",
        "colab_type": "code",
        "colab": {}
      },
      "source": [
        "import pandas as pd \n",
        "import numpy as np\n",
        "import matplotlib.pyplot as plt\n",
        "from sklearn.decomposition import PCA\n",
        "from sklearn.preprocessing import StandardScaler\n",
        "%matplotlib inline"
      ],
      "execution_count": 0,
      "outputs": []
    },
    {
      "cell_type": "code",
      "metadata": {
        "id": "5q94gGSJfGnA",
        "colab_type": "code",
        "colab": {}
      },
      "source": [
        "url = \"https://archive.ics.uci.edu/ml/machine-learning-databases/iris/iris.data\""
      ],
      "execution_count": 0,
      "outputs": []
    },
    {
      "cell_type": "code",
      "metadata": {
        "id": "KPi_V8fdfSUR",
        "colab_type": "code",
        "colab": {}
      },
      "source": [
        "# loading dataset into Pandas DataFrame\n",
        "df = pd.read_csv(url\n",
        "                 , names=['sepal length','sepal width','petal length','petal width','target'])"
      ],
      "execution_count": 0,
      "outputs": []
    },
    {
      "cell_type": "code",
      "metadata": {
        "id": "pzDNeymsfVfQ",
        "colab_type": "code",
        "colab": {
          "base_uri": "https://localhost:8080/",
          "height": 202
        },
        "outputId": "89e4efb5-2aac-49a3-8f48-1a65ac97abc2"
      },
      "source": [
        "#print the dataset\n",
        "df.head()"
      ],
      "execution_count": 97,
      "outputs": [
        {
          "output_type": "execute_result",
          "data": {
            "text/html": [
              "<div>\n",
              "<style scoped>\n",
              "    .dataframe tbody tr th:only-of-type {\n",
              "        vertical-align: middle;\n",
              "    }\n",
              "\n",
              "    .dataframe tbody tr th {\n",
              "        vertical-align: top;\n",
              "    }\n",
              "\n",
              "    .dataframe thead th {\n",
              "        text-align: right;\n",
              "    }\n",
              "</style>\n",
              "<table border=\"1\" class=\"dataframe\">\n",
              "  <thead>\n",
              "    <tr style=\"text-align: right;\">\n",
              "      <th></th>\n",
              "      <th>sepal length</th>\n",
              "      <th>sepal width</th>\n",
              "      <th>petal length</th>\n",
              "      <th>petal width</th>\n",
              "      <th>target</th>\n",
              "    </tr>\n",
              "  </thead>\n",
              "  <tbody>\n",
              "    <tr>\n",
              "      <th>0</th>\n",
              "      <td>5.1</td>\n",
              "      <td>3.5</td>\n",
              "      <td>1.4</td>\n",
              "      <td>0.2</td>\n",
              "      <td>Iris-setosa</td>\n",
              "    </tr>\n",
              "    <tr>\n",
              "      <th>1</th>\n",
              "      <td>4.9</td>\n",
              "      <td>3.0</td>\n",
              "      <td>1.4</td>\n",
              "      <td>0.2</td>\n",
              "      <td>Iris-setosa</td>\n",
              "    </tr>\n",
              "    <tr>\n",
              "      <th>2</th>\n",
              "      <td>4.7</td>\n",
              "      <td>3.2</td>\n",
              "      <td>1.3</td>\n",
              "      <td>0.2</td>\n",
              "      <td>Iris-setosa</td>\n",
              "    </tr>\n",
              "    <tr>\n",
              "      <th>3</th>\n",
              "      <td>4.6</td>\n",
              "      <td>3.1</td>\n",
              "      <td>1.5</td>\n",
              "      <td>0.2</td>\n",
              "      <td>Iris-setosa</td>\n",
              "    </tr>\n",
              "    <tr>\n",
              "      <th>4</th>\n",
              "      <td>5.0</td>\n",
              "      <td>3.6</td>\n",
              "      <td>1.4</td>\n",
              "      <td>0.2</td>\n",
              "      <td>Iris-setosa</td>\n",
              "    </tr>\n",
              "  </tbody>\n",
              "</table>\n",
              "</div>"
            ],
            "text/plain": [
              "   sepal length  sepal width  petal length  petal width       target\n",
              "0           5.1          3.5           1.4          0.2  Iris-setosa\n",
              "1           4.9          3.0           1.4          0.2  Iris-setosa\n",
              "2           4.7          3.2           1.3          0.2  Iris-setosa\n",
              "3           4.6          3.1           1.5          0.2  Iris-setosa\n",
              "4           5.0          3.6           1.4          0.2  Iris-setosa"
            ]
          },
          "metadata": {
            "tags": []
          },
          "execution_count": 97
        }
      ]
    },
    {
      "cell_type": "code",
      "metadata": {
        "id": "SMSWR9IIf3VF",
        "colab_type": "code",
        "colab": {
          "base_uri": "https://localhost:8080/",
          "height": 294
        },
        "outputId": "2a585668-114d-4482-9ee3-2738f8496571"
      },
      "source": [
        "df.describe()"
      ],
      "execution_count": 102,
      "outputs": [
        {
          "output_type": "execute_result",
          "data": {
            "text/html": [
              "<div>\n",
              "<style scoped>\n",
              "    .dataframe tbody tr th:only-of-type {\n",
              "        vertical-align: middle;\n",
              "    }\n",
              "\n",
              "    .dataframe tbody tr th {\n",
              "        vertical-align: top;\n",
              "    }\n",
              "\n",
              "    .dataframe thead th {\n",
              "        text-align: right;\n",
              "    }\n",
              "</style>\n",
              "<table border=\"1\" class=\"dataframe\">\n",
              "  <thead>\n",
              "    <tr style=\"text-align: right;\">\n",
              "      <th></th>\n",
              "      <th>sepal length</th>\n",
              "      <th>sepal width</th>\n",
              "      <th>petal length</th>\n",
              "      <th>petal width</th>\n",
              "    </tr>\n",
              "  </thead>\n",
              "  <tbody>\n",
              "    <tr>\n",
              "      <th>count</th>\n",
              "      <td>150.000000</td>\n",
              "      <td>150.000000</td>\n",
              "      <td>150.000000</td>\n",
              "      <td>150.000000</td>\n",
              "    </tr>\n",
              "    <tr>\n",
              "      <th>mean</th>\n",
              "      <td>5.843333</td>\n",
              "      <td>3.054000</td>\n",
              "      <td>3.758667</td>\n",
              "      <td>1.198667</td>\n",
              "    </tr>\n",
              "    <tr>\n",
              "      <th>std</th>\n",
              "      <td>0.828066</td>\n",
              "      <td>0.433594</td>\n",
              "      <td>1.764420</td>\n",
              "      <td>0.763161</td>\n",
              "    </tr>\n",
              "    <tr>\n",
              "      <th>min</th>\n",
              "      <td>4.300000</td>\n",
              "      <td>2.000000</td>\n",
              "      <td>1.000000</td>\n",
              "      <td>0.100000</td>\n",
              "    </tr>\n",
              "    <tr>\n",
              "      <th>25%</th>\n",
              "      <td>5.100000</td>\n",
              "      <td>2.800000</td>\n",
              "      <td>1.600000</td>\n",
              "      <td>0.300000</td>\n",
              "    </tr>\n",
              "    <tr>\n",
              "      <th>50%</th>\n",
              "      <td>5.800000</td>\n",
              "      <td>3.000000</td>\n",
              "      <td>4.350000</td>\n",
              "      <td>1.300000</td>\n",
              "    </tr>\n",
              "    <tr>\n",
              "      <th>75%</th>\n",
              "      <td>6.400000</td>\n",
              "      <td>3.300000</td>\n",
              "      <td>5.100000</td>\n",
              "      <td>1.800000</td>\n",
              "    </tr>\n",
              "    <tr>\n",
              "      <th>max</th>\n",
              "      <td>7.900000</td>\n",
              "      <td>4.400000</td>\n",
              "      <td>6.900000</td>\n",
              "      <td>2.500000</td>\n",
              "    </tr>\n",
              "  </tbody>\n",
              "</table>\n",
              "</div>"
            ],
            "text/plain": [
              "       sepal length  sepal width  petal length  petal width\n",
              "count    150.000000   150.000000    150.000000   150.000000\n",
              "mean       5.843333     3.054000      3.758667     1.198667\n",
              "std        0.828066     0.433594      1.764420     0.763161\n",
              "min        4.300000     2.000000      1.000000     0.100000\n",
              "25%        5.100000     2.800000      1.600000     0.300000\n",
              "50%        5.800000     3.000000      4.350000     1.300000\n",
              "75%        6.400000     3.300000      5.100000     1.800000\n",
              "max        7.900000     4.400000      6.900000     2.500000"
            ]
          },
          "metadata": {
            "tags": []
          },
          "execution_count": 102
        }
      ]
    },
    {
      "cell_type": "code",
      "metadata": {
        "id": "knJC4-tdfXa5",
        "colab_type": "code",
        "colab": {}
      },
      "source": [
        "features = ['sepal length', 'sepal width', 'petal length', 'petal width']\n",
        "x = df.loc[:, features].values"
      ],
      "execution_count": 0,
      "outputs": []
    },
    {
      "cell_type": "code",
      "metadata": {
        "id": "_ik8RKD5fhWb",
        "colab_type": "code",
        "colab": {}
      },
      "source": [
        "y = df.loc[:,['target']].values"
      ],
      "execution_count": 0,
      "outputs": []
    },
    {
      "cell_type": "code",
      "metadata": {
        "id": "n4LK0lpIfjV6",
        "colab_type": "code",
        "colab": {}
      },
      "source": [
        "x = StandardScaler().fit_transform(x)"
      ],
      "execution_count": 0,
      "outputs": []
    },
    {
      "cell_type": "code",
      "metadata": {
        "id": "zTfiOmI4flJZ",
        "colab_type": "code",
        "colab": {
          "base_uri": "https://localhost:8080/",
          "height": 202
        },
        "outputId": "da29d848-ff16-423a-ae0d-20fe1d23d37c"
      },
      "source": [
        "pd.DataFrame(data = x, columns = features).head()"
      ],
      "execution_count": 101,
      "outputs": [
        {
          "output_type": "execute_result",
          "data": {
            "text/html": [
              "<div>\n",
              "<style scoped>\n",
              "    .dataframe tbody tr th:only-of-type {\n",
              "        vertical-align: middle;\n",
              "    }\n",
              "\n",
              "    .dataframe tbody tr th {\n",
              "        vertical-align: top;\n",
              "    }\n",
              "\n",
              "    .dataframe thead th {\n",
              "        text-align: right;\n",
              "    }\n",
              "</style>\n",
              "<table border=\"1\" class=\"dataframe\">\n",
              "  <thead>\n",
              "    <tr style=\"text-align: right;\">\n",
              "      <th></th>\n",
              "      <th>sepal length</th>\n",
              "      <th>sepal width</th>\n",
              "      <th>petal length</th>\n",
              "      <th>petal width</th>\n",
              "    </tr>\n",
              "  </thead>\n",
              "  <tbody>\n",
              "    <tr>\n",
              "      <th>0</th>\n",
              "      <td>-0.900681</td>\n",
              "      <td>1.032057</td>\n",
              "      <td>-1.341272</td>\n",
              "      <td>-1.312977</td>\n",
              "    </tr>\n",
              "    <tr>\n",
              "      <th>1</th>\n",
              "      <td>-1.143017</td>\n",
              "      <td>-0.124958</td>\n",
              "      <td>-1.341272</td>\n",
              "      <td>-1.312977</td>\n",
              "    </tr>\n",
              "    <tr>\n",
              "      <th>2</th>\n",
              "      <td>-1.385353</td>\n",
              "      <td>0.337848</td>\n",
              "      <td>-1.398138</td>\n",
              "      <td>-1.312977</td>\n",
              "    </tr>\n",
              "    <tr>\n",
              "      <th>3</th>\n",
              "      <td>-1.506521</td>\n",
              "      <td>0.106445</td>\n",
              "      <td>-1.284407</td>\n",
              "      <td>-1.312977</td>\n",
              "    </tr>\n",
              "    <tr>\n",
              "      <th>4</th>\n",
              "      <td>-1.021849</td>\n",
              "      <td>1.263460</td>\n",
              "      <td>-1.341272</td>\n",
              "      <td>-1.312977</td>\n",
              "    </tr>\n",
              "  </tbody>\n",
              "</table>\n",
              "</div>"
            ],
            "text/plain": [
              "   sepal length  sepal width  petal length  petal width\n",
              "0     -0.900681     1.032057     -1.341272    -1.312977\n",
              "1     -1.143017    -0.124958     -1.341272    -1.312977\n",
              "2     -1.385353     0.337848     -1.398138    -1.312977\n",
              "3     -1.506521     0.106445     -1.284407    -1.312977\n",
              "4     -1.021849     1.263460     -1.341272    -1.312977"
            ]
          },
          "metadata": {
            "tags": []
          },
          "execution_count": 101
        }
      ]
    },
    {
      "cell_type": "code",
      "metadata": {
        "id": "26KneigCfnsP",
        "colab_type": "code",
        "colab": {}
      },
      "source": [
        "pca = PCA(n_components=2)"
      ],
      "execution_count": 0,
      "outputs": []
    },
    {
      "cell_type": "code",
      "metadata": {
        "id": "RTg2r6bogBV_",
        "colab_type": "code",
        "colab": {}
      },
      "source": [
        "principalComponents = pca.fit_transform(x)"
      ],
      "execution_count": 0,
      "outputs": []
    },
    {
      "cell_type": "code",
      "metadata": {
        "id": "BK-MRe81gDKK",
        "colab_type": "code",
        "colab": {}
      },
      "source": [
        "principalDf = pd.DataFrame(data = principalComponents\n",
        "             , columns = ['principal component 1', 'principal component 2'])"
      ],
      "execution_count": 0,
      "outputs": []
    },
    {
      "cell_type": "code",
      "metadata": {
        "id": "TUrxTnLYgE1O",
        "colab_type": "code",
        "colab": {
          "base_uri": "https://localhost:8080/",
          "height": 202
        },
        "outputId": "8a065be4-0aa4-4ab2-90fc-fb3167ab0411"
      },
      "source": [
        "principalDf.head(5)"
      ],
      "execution_count": 106,
      "outputs": [
        {
          "output_type": "execute_result",
          "data": {
            "text/html": [
              "<div>\n",
              "<style scoped>\n",
              "    .dataframe tbody tr th:only-of-type {\n",
              "        vertical-align: middle;\n",
              "    }\n",
              "\n",
              "    .dataframe tbody tr th {\n",
              "        vertical-align: top;\n",
              "    }\n",
              "\n",
              "    .dataframe thead th {\n",
              "        text-align: right;\n",
              "    }\n",
              "</style>\n",
              "<table border=\"1\" class=\"dataframe\">\n",
              "  <thead>\n",
              "    <tr style=\"text-align: right;\">\n",
              "      <th></th>\n",
              "      <th>principal component 1</th>\n",
              "      <th>principal component 2</th>\n",
              "    </tr>\n",
              "  </thead>\n",
              "  <tbody>\n",
              "    <tr>\n",
              "      <th>0</th>\n",
              "      <td>-2.264542</td>\n",
              "      <td>0.505704</td>\n",
              "    </tr>\n",
              "    <tr>\n",
              "      <th>1</th>\n",
              "      <td>-2.086426</td>\n",
              "      <td>-0.655405</td>\n",
              "    </tr>\n",
              "    <tr>\n",
              "      <th>2</th>\n",
              "      <td>-2.367950</td>\n",
              "      <td>-0.318477</td>\n",
              "    </tr>\n",
              "    <tr>\n",
              "      <th>3</th>\n",
              "      <td>-2.304197</td>\n",
              "      <td>-0.575368</td>\n",
              "    </tr>\n",
              "    <tr>\n",
              "      <th>4</th>\n",
              "      <td>-2.388777</td>\n",
              "      <td>0.674767</td>\n",
              "    </tr>\n",
              "  </tbody>\n",
              "</table>\n",
              "</div>"
            ],
            "text/plain": [
              "   principal component 1  principal component 2\n",
              "0              -2.264542               0.505704\n",
              "1              -2.086426              -0.655405\n",
              "2              -2.367950              -0.318477\n",
              "3              -2.304197              -0.575368\n",
              "4              -2.388777               0.674767"
            ]
          },
          "metadata": {
            "tags": []
          },
          "execution_count": 106
        }
      ]
    },
    {
      "cell_type": "code",
      "metadata": {
        "id": "fkD3YSvjgGwF",
        "colab_type": "code",
        "colab": {
          "base_uri": "https://localhost:8080/",
          "height": 202
        },
        "outputId": "bdbf2436-accf-43a9-910b-8b30dbe0da27"
      },
      "source": [
        "finalDf = pd.concat([principalDf, df[['target']]], axis = 1)\n",
        "finalDf.head(5)"
      ],
      "execution_count": 108,
      "outputs": [
        {
          "output_type": "execute_result",
          "data": {
            "text/html": [
              "<div>\n",
              "<style scoped>\n",
              "    .dataframe tbody tr th:only-of-type {\n",
              "        vertical-align: middle;\n",
              "    }\n",
              "\n",
              "    .dataframe tbody tr th {\n",
              "        vertical-align: top;\n",
              "    }\n",
              "\n",
              "    .dataframe thead th {\n",
              "        text-align: right;\n",
              "    }\n",
              "</style>\n",
              "<table border=\"1\" class=\"dataframe\">\n",
              "  <thead>\n",
              "    <tr style=\"text-align: right;\">\n",
              "      <th></th>\n",
              "      <th>principal component 1</th>\n",
              "      <th>principal component 2</th>\n",
              "      <th>target</th>\n",
              "    </tr>\n",
              "  </thead>\n",
              "  <tbody>\n",
              "    <tr>\n",
              "      <th>0</th>\n",
              "      <td>-2.264542</td>\n",
              "      <td>0.505704</td>\n",
              "      <td>Iris-setosa</td>\n",
              "    </tr>\n",
              "    <tr>\n",
              "      <th>1</th>\n",
              "      <td>-2.086426</td>\n",
              "      <td>-0.655405</td>\n",
              "      <td>Iris-setosa</td>\n",
              "    </tr>\n",
              "    <tr>\n",
              "      <th>2</th>\n",
              "      <td>-2.367950</td>\n",
              "      <td>-0.318477</td>\n",
              "      <td>Iris-setosa</td>\n",
              "    </tr>\n",
              "    <tr>\n",
              "      <th>3</th>\n",
              "      <td>-2.304197</td>\n",
              "      <td>-0.575368</td>\n",
              "      <td>Iris-setosa</td>\n",
              "    </tr>\n",
              "    <tr>\n",
              "      <th>4</th>\n",
              "      <td>-2.388777</td>\n",
              "      <td>0.674767</td>\n",
              "      <td>Iris-setosa</td>\n",
              "    </tr>\n",
              "  </tbody>\n",
              "</table>\n",
              "</div>"
            ],
            "text/plain": [
              "   principal component 1  principal component 2       target\n",
              "0              -2.264542               0.505704  Iris-setosa\n",
              "1              -2.086426              -0.655405  Iris-setosa\n",
              "2              -2.367950              -0.318477  Iris-setosa\n",
              "3              -2.304197              -0.575368  Iris-setosa\n",
              "4              -2.388777               0.674767  Iris-setosa"
            ]
          },
          "metadata": {
            "tags": []
          },
          "execution_count": 108
        }
      ]
    },
    {
      "cell_type": "code",
      "metadata": {
        "id": "6cAmWjZ9gJU4",
        "colab_type": "code",
        "colab": {
          "base_uri": "https://localhost:8080/",
          "height": 523
        },
        "outputId": "a7c7430d-994e-4c65-f7ab-12d5c22a8ef7"
      },
      "source": [
        "fig = plt.figure(figsize = (8,8))\n",
        "ax = fig.add_subplot(1,1,1) \n",
        "ax.set_xlabel('Principal Component 1', fontsize = 15)\n",
        "ax.set_ylabel('Principal Component 2', fontsize = 15)\n",
        "ax.set_title('2 Component PCA', fontsize = 20)\n",
        "\n",
        "\n",
        "targets = ['Iris-setosa', 'Iris-versicolor', 'Iris-virginica']\n",
        "colors = ['r', 'g', 'b']\n",
        "for target, color in zip(targets,colors):\n",
        "    indicesToKeep = finalDf['target'] == target\n",
        "    ax.scatter(finalDf.loc[indicesToKeep, 'principal component 1']\n",
        "               , finalDf.loc[indicesToKeep, 'principal component 2']\n",
        "               , c = color\n",
        "               , s = 50)\n",
        "ax.legend(targets)\n",
        "ax.grid()"
      ],
      "execution_count": 109,
      "outputs": [
        {
          "output_type": "display_data",
          "data": {
            "image/png": "[encoded data removed]",
            "text/plain": [
              "<Figure size 576x576 with 1 Axes>"
            ]
          },
          "metadata": {
            "tags": []
          }
        }
      ]
    },
    {
      "cell_type": "markdown",
      "metadata": {
        "id": "9rVP7C4ggbIF",
        "colab_type": "text"
      },
      "source": [
        "##Explained Variance\n",
        "\n",
        "The explained variance tells us how much information (variance) can be attributed to each of the principal components."
      ]
    },
    {
      "cell_type": "code",
      "metadata": {
        "id": "E84GcQHtgR6N",
        "colab_type": "code",
        "colab": {
          "base_uri": "https://localhost:8080/",
          "height": 35
        },
        "outputId": "5334d5d8-4816-4d78-abd3-07aafbe61530"
      },
      "source": [
        "pca.explained_variance_ratio_"
      ],
      "execution_count": 110,
      "outputs": [
        {
          "output_type": "execute_result",
          "data": {
            "text/plain": [
              "array([0.72770452, 0.23030523])"
            ]
          },
          "metadata": {
            "tags": []
          },
          "execution_count": 110
        }
      ]
    }
  ]
}